{
 "cells": [
  {
   "cell_type": "markdown",
   "metadata": {},
   "source": [
    "# <center> Chapitre 5: Tris - TP</center>\n",
    "\n",
    "L'organisation de de TP est la suivante :\n",
    "\n",
    "* Dans un premier temps il s'agit de programmer quelques fonctions utilisées dans le programme de tri ou dans le programme principal.\n",
    "\n",
    "* Dans un second temps il s'agit de programmer les algorithlmes de tri. Chaque algorithme prendra la forme d'une fonction au nom prédéfini. Pour chaque algorithme un programme de test est proposé. Assurez-vous que ces programmes de test s'exécutent correctement.\n",
    "\n",
    "* Dans un dernier temps, décommentez les sections du programme principal qui concernent les algorithmes de tri que vous avez implémentés et lancer la comparaison des temps d\"exéction. Le graphique produit doit vous permettre d'apréhender les compléxités des différents algorithmes.\n",
    "\n",
    "## Fonctions utilitaires\n",
    "\n",
    "### Échange des valeurs d'un tableau\n",
    "\n",
    "Définissez une fonction `swap_tab()` qui prend en paramètre un tableau et deux indices de position et intervertit les valeurs des cases des deux indices de position."
   ]
  },
  {
   "cell_type": "code",
   "execution_count": null,
   "metadata": {},
   "outputs": [],
   "source": [
    "# Code de la fonction swap_tab\n"
   ]
  },
  {
   "cell_type": "code",
   "execution_count": 45,
   "metadata": {},
   "outputs": [
    {
     "name": "stdout",
     "output_type": "stream",
     "text": [
      "[1, 5, 6, 2, 3, 8, 4, 9, 7]\n"
     ]
    }
   ],
   "source": [
    "# ------------  TEST/EXEMPLE ---------- #\n",
    "tab=[ 8, 5, 6, 2, 3, 1, 4, 9, 7]\n",
    "swap_tab(tab,0,5)\n",
    "print(tab)"
   ]
  },
  {
   "cell_type": "markdown",
   "metadata": {},
   "source": [
    "### Génération d'un tableau de taille donnée initialisé\n",
    "\n",
    "Définissez une fonction `tab_init()` qui prend en paramètre une longueur et une valeur d'initialisation et retourne un tableau de la longueur donnée dont chaque case contient la valeur d'initialisation."
   ]
  },
  {
   "cell_type": "code",
   "execution_count": null,
   "metadata": {},
   "outputs": [],
   "source": [
    "# Code de la fonction tab_init\n"
   ]
  },
  {
   "cell_type": "code",
   "execution_count": 46,
   "metadata": {},
   "outputs": [
    {
     "name": "stdout",
     "output_type": "stream",
     "text": [
      "[0, 0, 0]\n",
      "[5, 5, 5, 5, 5, 5, 5, 5, 5, 5]\n"
     ]
    }
   ],
   "source": [
    "# ------------  TEST/EXEMPLE ---------- #\n",
    "print(tab_init( 3, 0))\n",
    "print(tab_init( 10, 5))"
   ]
  },
  {
   "cell_type": "markdown",
   "metadata": {},
   "source": [
    "### Génération d'un tableau d'entier pseudo-aléatoire\n",
    "\n",
    "Définissez une fonction `tab_alea()` qui prend en paramètre un entier et retourne un tableau de longueur égale à l'entier et contenant des valeurs pseudo aléatoires tirées entre 0 et la moitié de la valeur de l'entier."
   ]
  },
  {
   "cell_type": "code",
   "execution_count": null,
   "metadata": {},
   "outputs": [],
   "source": [
    "# Code de la fonction tab_alea\n"
   ]
  },
  {
   "cell_type": "code",
   "execution_count": 47,
   "metadata": {},
   "outputs": [
    {
     "name": "stdout",
     "output_type": "stream",
     "text": [
      "[2, 0, 1, 2, 0]\n",
      "[2, 2, 0, 1, 1]\n",
      "[3, 2, 0, 5, 5, 4, 4, 2, 3, 1]\n",
      "[3, 1, 5, 5, 4, 1, 0, 4, 0, 3]\n"
     ]
    }
   ],
   "source": [
    "# ------------  TEST/EXEMPLE ---------- #\n",
    "print(tab_alea( 5 ))\n",
    "print(tab_alea( 5 ))\n",
    "print(tab_alea( 10 ))\n",
    "print(tab_alea( 10 ))"
   ]
  },
  {
   "cell_type": "markdown",
   "metadata": {},
   "source": [
    "### Calcul de la moyenne des valeurs d'un tableau\n",
    "\n",
    "Définissez une fonction `moyenne()` qui prend en paramètre un tableau d'entiers et retourne la moyenne des valeurs de ce tableau."
   ]
  },
  {
   "cell_type": "code",
   "execution_count": null,
   "metadata": {},
   "outputs": [],
   "source": [
    "# Code de la fonction moyenne\n"
   ]
  },
  {
   "cell_type": "code",
   "execution_count": 48,
   "metadata": {},
   "outputs": [
    {
     "name": "stdout",
     "output_type": "stream",
     "text": [
      "True\n",
      "True\n",
      "True\n"
     ]
    }
   ],
   "source": [
    "# ------------  TEST/EXEMPLE ---------- #\n",
    "print( moyenne([0,0,0]) == 0 )\n",
    "print( moyenne([1,1,1]) == 1 )\n",
    "print( moyenne([1,2,1,2]) == 1.5 )"
   ]
  },
  {
   "cell_type": "markdown",
   "metadata": {},
   "source": [
    "## Algorithmes de tri\n",
    "\n",
    "### Tri par sélection\n",
    "\n",
    "Définissez une fonction `tri_selection()` qui prend en paramètre un tableau d'entiers et le trie. La fonction implémente l'algorithme du tri par sélection du minimum.\n",
    "\n",
    "**Remarque :** utilisez la fonction `swap_tab()` à chaque fois que vous modifiez le contenu du tableau à trier."
   ]
  },
  {
   "cell_type": "code",
   "execution_count": null,
   "metadata": {},
   "outputs": [],
   "source": [
    "# Code du tri par sélection\n"
   ]
  },
  {
   "cell_type": "code",
   "execution_count": 49,
   "metadata": {},
   "outputs": [
    {
     "name": "stdout",
     "output_type": "stream",
     "text": [
      "[1, 2, 3, 4, 5, 6, 7, 8, 9]\n"
     ]
    }
   ],
   "source": [
    "# ------------  TEST/EXEMPLE ---------- #\n",
    "tab = [ 8, 5, 6, 2, 3, 1, 4, 9, 7]\n",
    "tri_selection(tab)\n",
    "print(tab)"
   ]
  },
  {
   "cell_type": "markdown",
   "metadata": {},
   "source": [
    "### Tri par insertion\n",
    "\n",
    "Définissez une fonction `tri_insertion()` qui prend en paramètre un tableau d'entiers et le trie. La fonction implémente l'algorithme du tri par insertion.\n",
    "\n",
    "**Remarque :** utlisez la fonction `swap_tab()` à chaque fois que vous modifiez le contenu du tableau à trier."
   ]
  },
  {
   "cell_type": "code",
   "execution_count": null,
   "metadata": {},
   "outputs": [],
   "source": [
    "# Code du tri par insertion\n"
   ]
  },
  {
   "cell_type": "code",
   "execution_count": null,
   "metadata": {},
   "outputs": [],
   "source": [
    "# ------------  TEST/EXEMPLE ---------- #\n",
    "tab = [ 8, 5, 6, 2, 3, 1, 4, 9, 7]\n",
    "tri_insertion(tab)\n",
    "print(tab)"
   ]
  },
  {
   "cell_type": "markdown",
   "metadata": {},
   "source": [
    "### Tri à bulles\n",
    "\n",
    "Définissez une fonction `tri_bulle()` qui prend en paramètre un tableau d'entiers et le trie. La fonction implémente l'algorithme du tri à bulles.\n",
    "\n",
    "**Remarque :** utilisez la fonction `swap_tab()` à chaque fois que vous modifiez le contenu du tableau à trier."
   ]
  },
  {
   "cell_type": "code",
   "execution_count": null,
   "metadata": {},
   "outputs": [],
   "source": [
    "# Code du tri à bulles\n"
   ]
  },
  {
   "cell_type": "code",
   "execution_count": null,
   "metadata": {},
   "outputs": [],
   "source": [
    "# ------------  TEST/EXEMPLE ---------- #\n",
    "tab = [ 8, 5, 6, 2, 3, 1, 4, 9, 7]\n",
    "tri_bulle(tab)\n",
    "print(tab)"
   ]
  },
  {
   "cell_type": "markdown",
   "metadata": {},
   "source": [
    "### Tri par comptage\n",
    "\n",
    "Définissez une fonction `tri_comptage()` qui prend en paramètre un tableau d'entiers et le trie. La fonction implémente l'algorithme du tri par comptage.\n",
    "\n",
    "**Remarque :** utilisez la fonction `tab_init()` pour initialiser le tableau de comptage."
   ]
  },
  {
   "cell_type": "code",
   "execution_count": null,
   "metadata": {},
   "outputs": [],
   "source": [
    "# Code du tri par comptage\n"
   ]
  },
  {
   "cell_type": "code",
   "execution_count": null,
   "metadata": {},
   "outputs": [],
   "source": [
    "# ------------  TEST/EXEMPLE ---------- #\n",
    "tab = [ 8, 5, 6, 2, 3, 1, 4, 9, 7]\n",
    "tri_comptage(tab)\n",
    "print(tab)"
   ]
  },
  {
   "cell_type": "markdown",
   "metadata": {},
   "source": [
    "## Mesure du temps d'exécution\n",
    "\n",
    "Pour chaque algorithme nous souhaitons faire une mesure de la complexité en temps de calcul. Pour cela nous allons évaluer le temps que met chaque algorithme à trier des tableaux aux valeurs aléatoires. Nous voulons faire varier la taille du problème en faisant varier la taille du tableau (ie. le nombre d'éléments à trier). Pour chaque taille de tableau nous répéterons 20 tirages de tableau aléatoire et calculerons la moyenne des temps de tri sur les 20 exécutions.\n",
    "\n",
    "Les tailles des tableaux seront fixées à [0, 10, 50, 100, 150, 200, 500, 750,1000, 1250, 1500, 1750, 2000]."
   ]
  },
  {
   "cell_type": "code",
   "execution_count": null,
   "metadata": {},
   "outputs": [],
   "source": [
    "from matplotlib.pyplot import plot, show, legend, xlabel, ylabel"
   ]
  },
  {
   "cell_type": "code",
   "execution_count": null,
   "metadata": {},
   "outputs": [],
   "source": [
    "# ------------  PROGRAMME DE TEST ---------- #\n",
    "from time import time\n",
    "nombre_tirages = 20\n",
    "tailles_tableau = [0, 10, 50, 100, 150, 200, 500, 750,1000, 1250, 1500, 1750, 2000]\n",
    "temps_moyens_selection = tab_init( len(tailles_tableau), 0)\n",
    "temps_moyens_insertion = tab_init( len(tailles_tableau), 0)\n",
    "temps_moyens_bulle = tab_init( len(tailles_tableau), 0)\n",
    "temps_moyens_comptage = tab_init( len(tailles_tableau), 0)\n",
    "temps_moyens_sort = tab_init( len(tailles_tableau), 0)\n",
    "taille = 0\n",
    "while taille < len(tailles_tableau):\n",
    "    tirage = 0\n",
    "    while tirage <  nombre_tirages:\n",
    "        tab_ref = tab_alea(tailles_tableau[taille])\n",
    "        \n",
    "        # -----------------------------------------------------\n",
    "        # -----------------       tri selection\n",
    "        # -----------------------------------------------------\n",
    "\n",
    "        #tab = tab_ref.copy()\n",
    "        #t_debut = time()\n",
    "        #tri_selection(tab)\n",
    "        #temps_moyens_selection[taille] += 1000 * (time() - t_debut)\n",
    "        \n",
    "        # -----------------------------------------------------\n",
    "        # -----------------       tri insertion\n",
    "        # -----------------------------------------------------\n",
    "        #tab = tab_ref.copy()\n",
    "        #t_debut = time()\n",
    "        #tri_insertion(tab)\n",
    "        #temps_moyens_insertion[taille] += 1000 * (time() - t_debut)\n",
    "       \n",
    "        # -----------------------------------------------------\n",
    "        # -----------------       tri bulle\n",
    "        # -----------------------------------------------------\n",
    "        #tab = tab_ref.copy()\n",
    "        #t_debut = time()\n",
    "        #tri_bulle(tab)\n",
    "        #temps_moyens_bulle[taille] += 1000 * (time() - t_debut)\n",
    "       \n",
    "        # -----------------------------------------------------\n",
    "        # -----------------       tri comptage\n",
    "        # -----------------------------------------------------\n",
    "        #tab = tab_ref.copy()\n",
    "        #t_debut = time()\n",
    "        #tri_comptage(tab)\n",
    "        #temps_moyens_comptage[taille] += 1000 * (time() - t_debut)\n",
    "        \n",
    "        # -----------------------------------------------------\n",
    "        # -----------------       tri quicksort de python\n",
    "        # -----------------------------------------------------\n",
    "        #tab = tab_ref.copy()\n",
    "        #t_debut = time()\n",
    "        #tab.sort()\n",
    "        #temps_moyens_sort[taille] += 1000 * (time() - t_debut)\n",
    "        \n",
    "        tirage += 1\n",
    "    temps_moyens_selection[taille] /= nombre_tirages\n",
    "    temps_moyens_insertion[taille] /= nombre_tirages\n",
    "    temps_moyens_bulle[taille] /= nombre_tirages\n",
    "    temps_moyens_comptage[taille] /= nombre_tirages\n",
    "    temps_moyens_sort[taille] /= nombre_tirages\n",
    "    taille += 1"
   ]
  },
  {
   "cell_type": "code",
   "execution_count": null,
   "metadata": {},
   "outputs": [],
   "source": [
    "%matplotlib inline\n",
    "\n",
    "# Figure affichant les temps d'exécution en fonction de la taille du tableau\n",
    "#plot(tailles_tableau,temps_moyens_selection, \"r\", label = \"tri par sélection\")\n",
    "#plot(tailles_tableau,temps_moyens_insertion, \"g\", label = \"tri par insertion\")\n",
    "#plot(tailles_tableau,temps_moyens_bulle, \"b\", label = \"tri à bulles\")\n",
    "#plot(tailles_tableau,temps_moyens_comptage, \"c\", label = \"tri par comptage\")        \n",
    "plot(tailles_tableau,temps_moyens_sort, \"m\", label = \"tri rapide\")\n",
    "xlabel(\"Taille du tableau\")\n",
    "ylabel(\"Temps en millisecondes pour trier\")\n",
    "legend();"
   ]
  }
 ],
 "metadata": {
  "kernelspec": {
   "display_name": "Python 3",
   "language": "python",
   "name": "python3"
  },
  "language_info": {
   "codemirror_mode": {
    "name": "ipython",
    "version": 3
   },
   "file_extension": ".py",
   "mimetype": "text/x-python",
   "name": "python",
   "nbconvert_exporter": "python",
   "pygments_lexer": "ipython3",
   "version": "3.6.6"
  }
 },
 "nbformat": 4,
 "nbformat_minor": 2
}
